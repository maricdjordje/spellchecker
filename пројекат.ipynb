{
 "cells": [
  {
   "cell_type": "markdown",
   "metadata": {},
   "source": [
    "#potrebni alati\n",
    "       #spell checker\n",
    "       #autocorrect\n",
    "       #pyspellshecker\n",
    "       #textblob\n",
    "       #pattern"
   ]
  },
  {
   "cell_type": "markdown",
   "metadata": {},
   "source": [
    "#installations\n",
    "      #pip install autocorrect\n",
    "      #pip install pyspellchecker\n",
    "      #pip install pattern\n",
    "      #pip install textblob"
   ]
  },
  {
   "cell_type": "markdown",
   "metadata": {},
   "source": [
    "#pySpellChecker omogucava da:\n",
    "     #pronadjemo nepravilan pravopis\n",
    "     #autokorekt\n",
    "     #predlozi candidate odnosno najslicnije reci trazenoj\n",
    "     #postavimo nasu listu reci"
   ]
  },
  {
   "cell_type": "code",
   "execution_count": 211,
   "metadata": {},
   "outputs": [],
   "source": [
    "from spellchecker import SpellChecker"
   ]
  },
  {
   "cell_type": "code",
   "execution_count": 212,
   "metadata": {},
   "outputs": [],
   "source": [
    "#dir(SpellChecker)"
   ]
  },
  {
   "cell_type": "code",
   "execution_count": 213,
   "metadata": {},
   "outputs": [],
   "source": [
    "spell = SpellChecker()"
   ]
  },
  {
   "cell_type": "code",
   "execution_count": 214,
   "metadata": {},
   "outputs": [],
   "source": [
    "docx = [\"beer\",\"phone\", \"haapy\", \"candidat\",\"plana\",\"comiuter\"]"
   ]
  },
  {
   "cell_type": "markdown",
   "metadata": {},
   "source": [
    "#kako bi trebalo pravilno biti napisano"
   ]
  },
  {
   "cell_type": "code",
   "execution_count": 215,
   "metadata": {},
   "outputs": [
    {
     "name": "stdout",
     "output_type": "stream",
     "text": [
      "beer: beer\n",
      "phone: phone\n",
      "haapy: happy\n",
      "candidat: candidate\n",
      "plana: plan\n",
      "comiuter: computer\n"
     ]
    }
   ],
   "source": [
    "for word in docx:          \n",
    "    print(f'{word}: {spell.correction(word)}')"
   ]
  },
  {
   "cell_type": "markdown",
   "metadata": {},
   "source": [
    "#ponudjene reci koje su najslicnije unetoj reci"
   ]
  },
  {
   "cell_type": "code",
   "execution_count": 216,
   "metadata": {},
   "outputs": [
    {
     "name": "stdout",
     "output_type": "stream",
     "text": [
      "beer: {'beer'}\n",
      "phone: {'phone'}\n",
      "haapy: {'harpy', 'happy'}\n",
      "candidat: {'candida', 'candidate', 'candidal'}\n",
      "plana: {'elana', 'plane', 'ilana', 'prana', 'lana', 'planar', 'plank', 'plan', 'plaza', 'alana', 'plans', 'plant', 'plata', 'playa'}\n",
      "comiuter: {'computer', 'commuter'}\n"
     ]
    }
   ],
   "source": [
    "for word in docx:\n",
    "    print(f'{word}: {spell.candidates(word)}')"
   ]
  },
  {
   "cell_type": "code",
   "execution_count": 217,
   "metadata": {},
   "outputs": [
    {
     "name": "stdout",
     "output_type": "stream",
     "text": [
      "beer: beer : probability 3.432920038471894e-05\n",
      "phone: phone : probability 8.411482301744312e-05\n",
      "haapy: happy : probability 0.0\n",
      "candidat: candidate : probability 0.0\n",
      "plana: plan : probability 0.0\n",
      "comiuter: computer : probability 0.0\n"
     ]
    }
   ],
   "source": [
    "for word in docx:\n",
    "    print(f'{word}: {spell.correction(word)} : probability {spell.word_probability(word)}')"
   ]
  },
  {
   "cell_type": "code",
   "execution_count": 286,
   "metadata": {},
   "outputs": [],
   "source": [
    "new=\"карађорђевашницло\""
   ]
  },
  {
   "cell_type": "code",
   "execution_count": 287,
   "metadata": {},
   "outputs": [
    {
     "data": {
      "text/plain": [
       "'карађорђевашницло'"
      ]
     },
     "execution_count": 287,
     "metadata": {},
     "output_type": "execute_result"
    }
   ],
   "source": [
    "spell.correction(new)"
   ]
  },
  {
   "cell_type": "code",
   "execution_count": 288,
   "metadata": {},
   "outputs": [
    {
     "data": {
      "text/plain": [
       "{'карађорђевашницло'}"
      ]
     },
     "execution_count": 288,
     "metadata": {},
     "output_type": "execute_result"
    }
   ],
   "source": [
    "spell.candidates(new)"
   ]
  },
  {
   "cell_type": "code",
   "execution_count": 289,
   "metadata": {},
   "outputs": [],
   "source": [
    "new_spell.word_frequency.load_text_file(\"word.txt\")"
   ]
  },
  {
   "cell_type": "code",
   "execution_count": 290,
   "metadata": {},
   "outputs": [
    {
     "data": {
      "text/plain": [
       "'карађорђевашницла'"
      ]
     },
     "execution_count": 290,
     "metadata": {},
     "output_type": "execute_result"
    }
   ],
   "source": [
    "new_spell.correction(new)"
   ]
  },
  {
   "cell_type": "code",
   "execution_count": 291,
   "metadata": {},
   "outputs": [
    {
     "data": {
      "text/plain": [
       "{'карађорђевашницла',\n",
       " 'карађорђевашницлг',\n",
       " 'карађорђевашницли',\n",
       " 'карађорђевашницлп',\n",
       " 'карађорђевашницлљ'}"
      ]
     },
     "execution_count": 291,
     "metadata": {},
     "output_type": "execute_result"
    }
   ],
   "source": [
    "new_spell.candidates(new)"
   ]
  },
  {
   "cell_type": "code",
   "execution_count": null,
   "metadata": {},
   "outputs": [],
   "source": []
  },
  {
   "cell_type": "code",
   "execution_count": null,
   "metadata": {},
   "outputs": [],
   "source": []
  }
 ],
 "metadata": {
  "kernelspec": {
   "display_name": "Python 3",
   "language": "python",
   "name": "python3"
  },
  "language_info": {
   "codemirror_mode": {
    "name": "ipython",
    "version": 3
   },
   "file_extension": ".py",
   "mimetype": "text/x-python",
   "name": "python",
   "nbconvert_exporter": "python",
   "pygments_lexer": "ipython3",
   "version": "3.7.4"
  }
 },
 "nbformat": 4,
 "nbformat_minor": 2
}
